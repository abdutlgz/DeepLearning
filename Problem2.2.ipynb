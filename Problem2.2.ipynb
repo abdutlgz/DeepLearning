{
 "cells": [
  {
   "cell_type": "code",
   "execution_count": 1,
   "id": "b4000ecd",
   "metadata": {},
   "outputs": [
    {
     "name": "stdout",
     "output_type": "stream",
     "text": [
      "epoch 0, loss 0.19766148924827576\n",
      "epoch 1, loss 0.18534842133522034\n",
      "epoch 2, loss 0.13542625308036804\n",
      "epoch 3, loss 0.125390887260437\n",
      "epoch 4, loss 0.2025633305311203\n",
      "epoch 5, loss 0.03331141918897629\n",
      "epoch 6, loss 0.043136414140462875\n",
      "epoch 7, loss 0.07412074506282806\n",
      "epoch 8, loss 0.020671594887971878\n",
      "epoch 9, loss 0.021285461261868477\n",
      "epoch 10, loss 0.03148072585463524\n",
      "epoch 11, loss 0.006461909972131252\n",
      "epoch 12, loss 0.008794624358415604\n",
      "epoch 13, loss 0.006014778278768063\n",
      "epoch 14, loss 0.00981127005070448\n",
      "epoch 15, loss 0.004400578327476978\n",
      "epoch 16, loss 0.001773104420863092\n",
      "epoch 17, loss 0.001467571360990405\n",
      "epoch 18, loss 0.006602304521948099\n",
      "epoch 19, loss 0.002784108044579625\n",
      "epoch 20, loss 0.005422745365649462\n",
      "epoch 21, loss 0.002678903751075268\n",
      "epoch 22, loss 0.002164544304832816\n",
      "epoch 23, loss 0.0010758329881355166\n",
      "epoch 24, loss 0.0018000064883381128\n",
      "Test loss: 0.0026943893171846867\n"
     ]
    }
   ],
   "source": [
    "!PYTHONPATH=/Users/atoleugazin/Desktop/FALL2024/2-1-initial_directory_setup python /Users/atoleugazin/Desktop/FALL2024/2-1-initial_directory_setup/assignments/1_2_parabola.py"
   ]
  },
  {
   "cell_type": "code",
   "execution_count": null,
   "id": "dddc663c",
   "metadata": {},
   "outputs": [],
   "source": []
  }
 ],
 "metadata": {
  "kernelspec": {
   "display_name": "Python 3 (ipykernel)",
   "language": "python",
   "name": "python3"
  },
  "language_info": {
   "codemirror_mode": {
    "name": "ipython",
    "version": 3
   },
   "file_extension": ".py",
   "mimetype": "text/x-python",
   "name": "python",
   "nbconvert_exporter": "python",
   "pygments_lexer": "ipython3",
   "version": "3.9.7"
  },
  "toc": {
   "base_numbering": 1,
   "nav_menu": {},
   "number_sections": true,
   "sideBar": true,
   "skip_h1_title": false,
   "title_cell": "Table of Contents",
   "title_sidebar": "Contents",
   "toc_cell": false,
   "toc_position": {},
   "toc_section_display": true,
   "toc_window_display": false
  },
  "varInspector": {
   "cols": {
    "lenName": 16,
    "lenType": 16,
    "lenVar": 40
   },
   "kernels_config": {
    "python": {
     "delete_cmd_postfix": "",
     "delete_cmd_prefix": "del ",
     "library": "var_list.py",
     "varRefreshCmd": "print(var_dic_list())"
    },
    "r": {
     "delete_cmd_postfix": ") ",
     "delete_cmd_prefix": "rm(",
     "library": "var_list.r",
     "varRefreshCmd": "cat(var_dic_list()) "
    }
   },
   "types_to_exclude": [
    "module",
    "function",
    "builtin_function_or_method",
    "instance",
    "_Feature"
   ],
   "window_display": false
  }
 },
 "nbformat": 4,
 "nbformat_minor": 5
}
