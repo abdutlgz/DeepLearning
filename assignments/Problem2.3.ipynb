{
 "cells": [
  {
   "cell_type": "code",
   "execution_count": 1,
   "id": "1a0bb770",
   "metadata": {},
   "outputs": [
    {
     "data": {
      "image/png": "[encoded data removed]",
      "text/plain": [
       "<Figure size 576x576 with 9 Axes>"
      ]
     },
     "metadata": {
      "needs_background": "light"
     },
     "output_type": "display_data"
    }
   ],
   "source": [
    "import matplotlib.pyplot as plt\n",
    "from sklearn.datasets import load_digits\n",
    "#sklearn is easier\n",
    "digits = load_digits()\n",
    "\n",
    "fig, axes = plt.subplots(3, 3, figsize=(8, 8))\n",
    "for i, ax in enumerate(axes.flat):\n",
    "    ax.imshow(digits.images[i], cmap='gray')\n",
    "    ax.set_title(f\"Label: {digits.target[i]}\")\n",
    "    ax.axis('off')\n",
    "\n",
    "plt.show()\n"
   ]
  },
  {
   "cell_type": "code",
   "execution_count": 8,
   "id": "25401632",
   "metadata": {},
   "outputs": [
    {
     "name": "stdout",
     "output_type": "stream",
     "text": [
      "Epoch 1/25, Loss: 1.1652625198993418\n",
      "Epoch 2/25, Loss: 0.34439501251714927\n",
      "Epoch 3/25, Loss: 0.2075947702396661\n",
      "Epoch 4/25, Loss: 0.15460068768718177\n",
      "Epoch 5/25, Loss: 0.1250468721652093\n",
      "Epoch 6/25, Loss: 0.11055562508408912\n",
      "Epoch 7/25, Loss: 0.09272173772559553\n",
      "Epoch 8/25, Loss: 0.07735491355156733\n",
      "Epoch 9/25, Loss: 0.06709734218182145\n",
      "Epoch 10/25, Loss: 0.056003585771072215\n",
      "Epoch 11/25, Loss: 0.04725490496881927\n",
      "Epoch 12/25, Loss: 0.0466537698383844\n",
      "Epoch 13/25, Loss: 0.04356229938194803\n",
      "Epoch 14/25, Loss: 0.03177966601247641\n",
      "Epoch 15/25, Loss: 0.029886615640457928\n",
      "Epoch 16/25, Loss: 0.02355262794703271\n",
      "Epoch 17/25, Loss: 0.020416518359626126\n",
      "Epoch 18/25, Loss: 0.020700709350623785\n",
      "Epoch 19/25, Loss: 0.02102492607122662\n",
      "Epoch 20/25, Loss: 0.017513901704256166\n",
      "Epoch 21/25, Loss: 0.016050364920298914\n",
      "Epoch 22/25, Loss: 0.012011895289308287\n",
      "Epoch 23/25, Loss: 0.010766717373169539\n",
      "Epoch 24/25, Loss: 0.01046616932452101\n",
      "Epoch 25/25, Loss: 0.00922804473783698\n",
      "\n",
      "Test Loss: 0.09264324875483806, Test Accuracy: 97.78%\n"
     ]
    }
   ],
   "source": [
    "!PYTHONPATH=/Users/atoleugazin/Desktop/FALL2024/2-1-initial_directory_setup python /Users/atoleugazin/Desktop/FALL2024/2-1-initial_directory_setup/assignments/1_3.py\n"
   ]
  },
  {
   "cell_type": "code",
   "execution_count": null,
   "id": "05b2d205",
   "metadata": {},
   "outputs": [],
   "source": []
  }
 ],
 "metadata": {
  "kernelspec": {
   "display_name": "Python 3 (ipykernel)",
   "language": "python",
   "name": "python3"
  },
  "language_info": {
   "codemirror_mode": {
    "name": "ipython",
    "version": 3
   },
   "file_extension": ".py",
   "mimetype": "text/x-python",
   "name": "python",
   "nbconvert_exporter": "python",
   "pygments_lexer": "ipython3",
   "version": "3.9.7"
  },
  "toc": {
   "base_numbering": 1,
   "nav_menu": {},
   "number_sections": true,
   "sideBar": true,
   "skip_h1_title": false,
   "title_cell": "Table of Contents",
   "title_sidebar": "Contents",
   "toc_cell": false,
   "toc_position": {},
   "toc_section_display": true,
   "toc_window_display": false
  },
  "varInspector": {
   "cols": {
    "lenName": 16,
    "lenType": 16,
    "lenVar": 40
   },
   "kernels_config": {
    "python": {
     "delete_cmd_postfix": "",
     "delete_cmd_prefix": "del ",
     "library": "var_list.py",
     "varRefreshCmd": "print(var_dic_list())"
    },
    "r": {
     "delete_cmd_postfix": ") ",
     "delete_cmd_prefix": "rm(",
     "library": "var_list.r",
     "varRefreshCmd": "cat(var_dic_list()) "
    }
   },
   "types_to_exclude": [
    "module",
    "function",
    "builtin_function_or_method",
    "instance",
    "_Feature"
   ],
   "window_display": false
  }
 },
 "nbformat": 4,
 "nbformat_minor": 5
}
