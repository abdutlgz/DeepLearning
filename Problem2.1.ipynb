{
 "cells": [
  {
   "cell_type": "code",
   "execution_count": 38,
   "id": "c4448576",
   "metadata": {
    "scrolled": false
   },
   "outputs": [
    {
     "name": "stdout",
     "output_type": "stream",
     "text": [
      "epoch 0, loss 0.03492569923400879\n",
      "epoch 1, loss 0.06490983814001083\n",
      "epoch 2, loss 0.19573883712291718\n",
      "epoch 3, loss 0.025243153795599937\n",
      "epoch 4, loss 0.01181455422192812\n",
      "epoch 5, loss 0.0479552298784256\n",
      "epoch 6, loss 0.00566090177744627\n",
      "epoch 7, loss 0.017920829355716705\n",
      "epoch 8, loss 0.01570759154856205\n",
      "epoch 9, loss 0.00313725508749485\n",
      "epoch 10, loss 0.0009805936133489013\n",
      "epoch 11, loss 0.0066598085686564445\n",
      "epoch 12, loss 0.00273132068105042\n",
      "epoch 13, loss 0.0006574503495357931\n",
      "epoch 14, loss 0.003512586234137416\n",
      "epoch 15, loss 0.0022925464436411858\n",
      "epoch 16, loss 0.0024692683946341276\n",
      "epoch 17, loss 0.0014813130255788565\n",
      "epoch 18, loss 0.0011320982594043016\n",
      "epoch 19, loss 0.0030185433570295572\n",
      "epoch 20, loss 0.0015181911876425147\n",
      "epoch 21, loss 0.0036171027459204197\n",
      "epoch 22, loss 0.0014558673137798905\n",
      "epoch 23, loss 0.0030088122002780437\n",
      "epoch 24, loss 0.002725149504840374\n",
      "Figure(640x480)\n"
     ]
    }
   ],
   "source": [
    "!PYTHONPATH=/Users/atoleugazin/Desktop/FALL2024/2-1-initial_directory_setup python /Users/atoleugazin/Desktop/FALL2024/2-1-initial_directory_setup/assignments/1_1_directory_setup.py\n"
   ]
  }
 ],
 "metadata": {
  "kernelspec": {
   "display_name": "Python 3 (ipykernel)",
   "language": "python",
   "name": "python3"
  },
  "language_info": {
   "codemirror_mode": {
    "name": "ipython",
    "version": 3
   },
   "file_extension": ".py",
   "mimetype": "text/x-python",
   "name": "python",
   "nbconvert_exporter": "python",
   "pygments_lexer": "ipython3",
   "version": "3.9.7"
  },
  "toc": {
   "base_numbering": 1,
   "nav_menu": {},
   "number_sections": true,
   "sideBar": true,
   "skip_h1_title": false,
   "title_cell": "Table of Contents",
   "title_sidebar": "Contents",
   "toc_cell": false,
   "toc_position": {},
   "toc_section_display": true,
   "toc_window_display": false
  },
  "varInspector": {
   "cols": {
    "lenName": 16,
    "lenType": 16,
    "lenVar": 40
   },
   "kernels_config": {
    "python": {
     "delete_cmd_postfix": "",
     "delete_cmd_prefix": "del ",
     "library": "var_list.py",
     "varRefreshCmd": "print(var_dic_list())"
    },
    "r": {
     "delete_cmd_postfix": ") ",
     "delete_cmd_prefix": "rm(",
     "library": "var_list.r",
     "varRefreshCmd": "cat(var_dic_list()) "
    }
   },
   "types_to_exclude": [
    "module",
    "function",
    "builtin_function_or_method",
    "instance",
    "_Feature"
   ],
   "window_display": false
  }
 },
 "nbformat": 4,
 "nbformat_minor": 5
}
